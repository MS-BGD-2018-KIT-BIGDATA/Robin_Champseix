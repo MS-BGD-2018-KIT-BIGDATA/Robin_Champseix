{
 "cells": [
  {
   "cell_type": "code",
   "execution_count": null,
   "metadata": {},
   "outputs": [],
   "source": [
    "from urllib.request import urlopen\n",
    "from multiprocessing import Pool\n",
    "from bs4 import BeautifulSoup\n",
    "import urllib.request, json\n",
    "import pandas as pd\n",
    "import numpy as np\n",
    "import lxml.html\n",
    "import requests\n",
    "import getpass\n",
    "import math\n",
    "import re"
   ]
  },
  {
   "cell_type": "code",
   "execution_count": null,
   "metadata": {},
   "outputs": [],
   "source": [
    "data = requests.get(\"https://www.open-medicaments.fr/api/v1/medicaments?query=ibuprofene&api_key=ibuprofene\").json()\n",
    "\n",
    "code = []\n",
    "deno = []\n",
    "for i in range(len(data)):\n",
    "    code.append(data[i]['codeCIS'])\n",
    "    deno.append(data[i]['denomination'])\n",
    "    \n",
    "dict_1 = {'code': code, 'deno': deno}\n",
    "df = pd.DataFrame(dict_1)\n",
    "df"
   ]
  },
  {
   "cell_type": "code",
   "execution_count": null,
   "metadata": {},
   "outputs": [],
   "source": [
    "def get_info(text):\n",
    "    data = requests.get(\"https://www.open-medicaments.fr/api/v1/medicaments/\" + text).json()\n",
    "    date = data['presentations'][0]['dateDeclarationCommercialisation']\n",
    "    dosage = data['compositions'][0]['substancesActives'][0][\"dosageSubstance\"]\n",
    "    prix = data['presentations'][0]['prix']\n",
    "    \n",
    "    \n",
    "    if prix == None:\n",
    "        prix = \"NaN\"\n",
    "    \n",
    "    return str(date) + '|' + str(dosage) + '|' + str(prix) \n",
    "    \n",
    "df[\"Info\"] = df[\"code\"].apply(lambda x: get_info(x))\n",
    "df[\"Date\"] = df.Info.str.split('|',2, expand=True)[0].tolist()\n",
    "df[\"Dosage\"] = df.Info.str.split('|',2, expand=True)[1].tolist()\n",
    "df[\"Price\"] = df.Info.str.split('|',2, expand=True)[2].tolist()\n",
    "df[\"Year\"] = df.Date.str.split('-',2, expand=True)[0].tolist()\n",
    "df[\"Month\"] = df.Date.str.split('-',2, expand=True)[1].tolist()\n",
    "df[\"Day\"] = df.Date.str.split('-',2, expand=True)[2].tolist()\n",
    "del df[\"Info\"]\n",
    "df.head()"
   ]
  }
 ],
 "metadata": {
  "kernelspec": {
   "display_name": "Py_3_KitDataScience",
   "language": "python",
   "name": "py_3_kitdatascience"
  },
  "language_info": {
   "codemirror_mode": {
    "name": "ipython",
    "version": 3
   },
   "file_extension": ".py",
   "mimetype": "text/x-python",
   "name": "python",
   "nbconvert_exporter": "python",
   "pygments_lexer": "ipython3",
   "version": "3.6.2"
  }
 },
 "nbformat": 4,
 "nbformat_minor": 2
}

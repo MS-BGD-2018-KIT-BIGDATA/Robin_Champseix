{
 "cells": [
  {
   "cell_type": "code",
   "execution_count": 1,
   "metadata": {},
   "outputs": [],
   "source": [
    "import requests\n",
    "from bs4 import BeautifulSoup\n",
    "import re\n",
    "import pandas as pd\n",
    "from itertools import chain\n",
    "from multiprocessing import Pool, TimeoutError\n",
    "import numpy as np"
   ]
  },
  {
   "cell_type": "code",
   "execution_count": 2,
   "metadata": {},
   "outputs": [],
   "source": [
    "urlArgus = \"https://www.lacentrale.fr/cote-voitures-renault-zoe--2012-.html\"\n",
    "\n",
    "regions = [\"ile_de_france\", \"provence_alpes_cote_d_azur\", \"aquitaine\"]\n",
    "\n",
    "urlLeboncoin = \"https://www.leboncoin.fr/voitures/offres/\""
   ]
  },
  {
   "cell_type": "code",
   "execution_count": 3,
   "metadata": {},
   "outputs": [],
   "source": [
    "def getUrlArgus():\n",
    "    urlArgusList = []\n",
    "    for annee in range(2012,2018):\n",
    "        urlArgusList.append(\"https://www.lacentrale.fr/cote-voitures-renault-zoe--\" + str(annee) + \"-.html\")\n",
    "    return urlArgusList"
   ]
  },
  {
   "cell_type": "code",
   "execution_count": 4,
   "metadata": {},
   "outputs": [],
   "source": [
    "def getArgusLinks(urlArgus):\n",
    "    soupArgus = getSoupFromURL(urlArgus)\n",
    "    a = soupArgus.find_all(\"div\", class_ = \"listingResultLine auto\")\n",
    "    linksArgus = [\"https://www.lacentrale.fr/\" + a[i].a['href'] for i in range(len(a))]\n",
    "    return linksArgus"
   ]
  },
  {
   "cell_type": "code",
   "execution_count": 5,
   "metadata": {},
   "outputs": [],
   "source": [
    "def getSoupFromURL(url, method='get', data={}):\n",
    "    \n",
    "    if method == 'get':\n",
    "        res = requests.get(url)\n",
    "    elif method == 'post':\n",
    "        res = requests.post(url, data=data)\n",
    "    else:\n",
    "        return None\n",
    "    \n",
    "    if res.status_code == 200:\n",
    "        soup = BeautifulSoup(res.text, 'html.parser')\n",
    "        return soup\n",
    "    else:\n",
    "        return None"
   ]
  },
  {
   "cell_type": "code",
   "execution_count": 6,
   "metadata": {},
   "outputs": [],
   "source": [
    "def getUrlList():\n",
    "    urlList = []\n",
    "    for region in regions:\n",
    "        siteSoup = getSoupFromURL(\"https://www.leboncoin.fr/voitures/offres/\" + region + \"/?th=1&q=renault%20zo%E9\")\n",
    "        numberOfPages = int(siteSoup.find_all(\"a\", class_ = \"element page\")[-1].text.strip())\n",
    "        for page in range(1,numberOfPages+1):\n",
    "            urlList.append(urlLeboncoin + region + \"/?o=\" + str(page) + \"&q=renault%20zo%E9\")\n",
    "    return urlList"
   ]
  },
  {
   "cell_type": "code",
   "execution_count": 7,
   "metadata": {},
   "outputs": [],
   "source": [
    "def getVersion(soup):\n",
    "    regexLife = \"[Ll]{1}[iI]{1}[fF]{1}[eE]{1}\"\n",
    "    regexZen = \"[zZ][eE][nN]\"\n",
    "    regexIntens = \"[Ii][Nn][Tt][Ee][Nn][Ss]\"\n",
    "    \n",
    "    description = soup.find(\"p\", itemprop = \"description\").text.strip()\n",
    "    \n",
    "    if re.search(regexLife, description):\n",
    "        version = \"Life\"\n",
    "    elif re.search(regexZen, description):\n",
    "        version = \"Zen\"\n",
    "    elif re.search(regexIntens, description):\n",
    "        version = \"Intens\"\n",
    "    else:\n",
    "        version = \"Inconnu\"\n",
    "    return version"
   ]
  },
  {
   "cell_type": "code",
   "execution_count": 8,
   "metadata": {},
   "outputs": [],
   "source": [
    "def sellerType(soup):\n",
    "    \n",
    "    if soup.find(\"span\", class_ = \"ispro\"):\n",
    "        seller = \"Professionel\"\n",
    "    else :\n",
    "        seller = \"Particulier\"\n",
    "        \n",
    "    return seller"
   ]
  },
  {
   "cell_type": "code",
   "execution_count": 9,
   "metadata": {},
   "outputs": [],
   "source": [
    "# récuperer la liste de tous les renault zoe\n",
    "def getLinks(url):\n",
    "    soup = getSoupFromURL(url)\n",
    "    subsoup = soup.find_all(\"a\", class_= \"list_item clearfix trackable\")\n",
    "    linkList = [\"http:\" + car['href'] for car in subsoup]\n",
    "    return linkList"
   ]
  },
  {
   "cell_type": "code",
   "execution_count": 10,
   "metadata": {},
   "outputs": [],
   "source": [
    "def getNumber(soup):\n",
    "    \n",
    "    regexTelNumber = '(0[1-9](?P<sep>[-. ]?)(?:\\d{2}(?P=sep)){3}\\d{2})'\n",
    "    description = soup.find(\"p\", itemprop = \"description\").text.strip()\n",
    "    num = re.search(regexTelNumber, description)\n",
    "    \n",
    "    if num :\n",
    "        number = num.group(0).replace(\" \", \"\").replace(\"-\", \"\").replace(\".\", \"\")\n",
    "        return number \n",
    "    else : \n",
    "        return \"Numéro Inconnu\""
   ]
  },
  {
   "cell_type": "code",
   "execution_count": 11,
   "metadata": {},
   "outputs": [],
   "source": [
    "def getInfos(carLink):\n",
    "\n",
    "    carSoup = getSoupFromURL(carLink)  \n",
    "\n",
    "    price = int(carSoup.find_all(\"span\", class_= \"value\")[0].text.strip().replace(\"\\xa0€\", \"\").replace(\" \", \"\"))\n",
    "    \n",
    "    year = int(carSoup.find_all(\"span\", class_= \"value\")[4].text.strip())\n",
    "    \n",
    "    kilometrage = int(carSoup.find_all(\"span\", class_= \"value\")[5].text.strip().replace(\"KM\", \"\").replace(\" \", \"\"))\n",
    "    \n",
    "    version = getVersion(carSoup)\n",
    "    \n",
    "    telephonNumber = getNumber(carSoup)\n",
    "    \n",
    "    seller = sellerType(carSoup)\n",
    "    \n",
    "    return version, year,  kilometrage, price, telephonNumber, seller"
   ]
  },
  {
   "cell_type": "code",
   "execution_count": 12,
   "metadata": {},
   "outputs": [],
   "source": [
    "def getArgusEstimatedPrice(argusLink):\n",
    "    soupArg = getSoupFromURL(argusLink)\n",
    "    estimatedPrice = int(soupArg.find(\"span\", class_ = \"jsRefinedQuot\").text.strip().replace(\" \", \"\"))\n",
    "    return estimatedPrice"
   ]
  },
  {
   "cell_type": "code",
   "execution_count": 13,
   "metadata": {},
   "outputs": [
    {
     "name": "stdout",
     "output_type": "stream",
     "text": [
      "CPU times: user 572 ms, sys: 55.4 ms, total: 628 ms\n",
      "Wall time: 8.6 s\n"
     ]
    }
   ],
   "source": [
    "%%time\n",
    "# Multithreading\n",
    "pool = Pool(processes=10)\n",
    "\n",
    "urlList = getUrlList()\n",
    "\n",
    "finalList = []\n",
    "carsLinks = []\n",
    "\n",
    "carsLinks = pool.map(getLinks, urlList)\n",
    "carsLinks = list(chain.from_iterable(carsLinks))\n",
    "\n",
    "# Création de liste avec chaque ligne comprenant les infos sur chaque voiture\n",
    "completeList = pool.map(getInfos, carsLinks)"
   ]
  },
  {
   "cell_type": "code",
   "execution_count": 17,
   "metadata": {},
   "outputs": [
    {
     "data": {
      "text/html": [
       "<div>\n",
       "<style>\n",
       "    .dataframe thead tr:only-child th {\n",
       "        text-align: right;\n",
       "    }\n",
       "\n",
       "    .dataframe thead th {\n",
       "        text-align: left;\n",
       "    }\n",
       "\n",
       "    .dataframe tbody tr th {\n",
       "        vertical-align: top;\n",
       "    }\n",
       "</style>\n",
       "<table border=\"1\" class=\"dataframe\">\n",
       "  <thead>\n",
       "    <tr style=\"text-align: right;\">\n",
       "      <th></th>\n",
       "      <th>version</th>\n",
       "      <th>year</th>\n",
       "      <th>kilometrage</th>\n",
       "      <th>price</th>\n",
       "      <th>telephon_number</th>\n",
       "      <th>seller</th>\n",
       "    </tr>\n",
       "  </thead>\n",
       "  <tbody>\n",
       "    <tr>\n",
       "      <th>0</th>\n",
       "      <td>Inconnu</td>\n",
       "      <td>2017</td>\n",
       "      <td>20000</td>\n",
       "      <td>15900</td>\n",
       "      <td>Numéro Inconnu</td>\n",
       "      <td>Particulier</td>\n",
       "    </tr>\n",
       "    <tr>\n",
       "      <th>1</th>\n",
       "      <td>Intens</td>\n",
       "      <td>2015</td>\n",
       "      <td>15254</td>\n",
       "      <td>10990</td>\n",
       "      <td>0164597186</td>\n",
       "      <td>Professionel</td>\n",
       "    </tr>\n",
       "    <tr>\n",
       "      <th>2</th>\n",
       "      <td>Life</td>\n",
       "      <td>2014</td>\n",
       "      <td>28537</td>\n",
       "      <td>7900</td>\n",
       "      <td>0134301285</td>\n",
       "      <td>Professionel</td>\n",
       "    </tr>\n",
       "    <tr>\n",
       "      <th>3</th>\n",
       "      <td>Life</td>\n",
       "      <td>2013</td>\n",
       "      <td>8751</td>\n",
       "      <td>8990</td>\n",
       "      <td>0164597186</td>\n",
       "      <td>Professionel</td>\n",
       "    </tr>\n",
       "    <tr>\n",
       "      <th>4</th>\n",
       "      <td>Life</td>\n",
       "      <td>2014</td>\n",
       "      <td>29000</td>\n",
       "      <td>9700</td>\n",
       "      <td>Numéro Inconnu</td>\n",
       "      <td>Particulier</td>\n",
       "    </tr>\n",
       "  </tbody>\n",
       "</table>\n",
       "</div>"
      ],
      "text/plain": [
       "   version  year  kilometrage  price telephon_number        seller\n",
       "0  Inconnu  2017        20000  15900  Numéro Inconnu   Particulier\n",
       "1   Intens  2015        15254  10990      0164597186  Professionel\n",
       "2     Life  2014        28537   7900      0134301285  Professionel\n",
       "3     Life  2013         8751   8990      0164597186  Professionel\n",
       "4     Life  2014        29000   9700  Numéro Inconnu   Particulier"
      ]
     },
     "execution_count": 17,
     "metadata": {},
     "output_type": "execute_result"
    }
   ],
   "source": [
    "# Création d'un DataFrame comprenant les infos du boncoin sur les voitures \n",
    "df = pd.DataFrame(completeList, columns = [\"version\", \"year\",  \"kilometrage\", \"price\", \"telephon_number\", \"seller\"])\n",
    "df.head()"
   ]
  },
  {
   "cell_type": "code",
   "execution_count": 19,
   "metadata": {},
   "outputs": [],
   "source": [
    "# Scrapping des estimations du prix des Argus\n",
    "argusUrls = getUrlArgus()\n",
    "year = [2012, 2013, 2014, 2015, 2016, 2017]\n",
    "\n",
    "intensPrice = list(map(lambda x :  getArgusEstimatedPrice(getArgusLinks(x)[0]), argusUrls))\n",
    "lifePrice = list(map(lambda x :  getArgusEstimatedPrice(getArgusLinks(x)[2]), argusUrls))\n",
    "zenPrice = list(map(lambda x :  getArgusEstimatedPrice(getArgusLinks(x)[4]), argusUrls))"
   ]
  },
  {
   "cell_type": "code",
   "execution_count": 20,
   "metadata": {},
   "outputs": [
    {
     "data": {
      "text/html": [
       "<div>\n",
       "<style>\n",
       "    .dataframe thead tr:only-child th {\n",
       "        text-align: right;\n",
       "    }\n",
       "\n",
       "    .dataframe thead th {\n",
       "        text-align: left;\n",
       "    }\n",
       "\n",
       "    .dataframe tbody tr th {\n",
       "        vertical-align: top;\n",
       "    }\n",
       "</style>\n",
       "<table border=\"1\" class=\"dataframe\">\n",
       "  <thead>\n",
       "    <tr style=\"text-align: right;\">\n",
       "      <th></th>\n",
       "      <th>Intens</th>\n",
       "      <th>Life</th>\n",
       "      <th>Zen</th>\n",
       "      <th>Inconnu</th>\n",
       "    </tr>\n",
       "  </thead>\n",
       "  <tbody>\n",
       "    <tr>\n",
       "      <th>2012</th>\n",
       "      <td>8280</td>\n",
       "      <td>8920</td>\n",
       "      <td>9970</td>\n",
       "      <td>9057.0</td>\n",
       "    </tr>\n",
       "    <tr>\n",
       "      <th>2013</th>\n",
       "      <td>9154</td>\n",
       "      <td>10492</td>\n",
       "      <td>10008</td>\n",
       "      <td>9885.0</td>\n",
       "    </tr>\n",
       "    <tr>\n",
       "      <th>2014</th>\n",
       "      <td>9393</td>\n",
       "      <td>9918</td>\n",
       "      <td>9436</td>\n",
       "      <td>9582.0</td>\n",
       "    </tr>\n",
       "    <tr>\n",
       "      <th>2015</th>\n",
       "      <td>12739</td>\n",
       "      <td>12725</td>\n",
       "      <td>11469</td>\n",
       "      <td>12311.0</td>\n",
       "    </tr>\n",
       "    <tr>\n",
       "      <th>2016</th>\n",
       "      <td>14244</td>\n",
       "      <td>14206</td>\n",
       "      <td>12153</td>\n",
       "      <td>13534.0</td>\n",
       "    </tr>\n",
       "    <tr>\n",
       "      <th>2017</th>\n",
       "      <td>13760</td>\n",
       "      <td>14965</td>\n",
       "      <td>13870</td>\n",
       "      <td>14198.0</td>\n",
       "    </tr>\n",
       "  </tbody>\n",
       "</table>\n",
       "</div>"
      ],
      "text/plain": [
       "      Intens   Life    Zen  Inconnu\n",
       "2012    8280   8920   9970   9057.0\n",
       "2013    9154  10492  10008   9885.0\n",
       "2014    9393   9918   9436   9582.0\n",
       "2015   12739  12725  11469  12311.0\n",
       "2016   14244  14206  12153  13534.0\n",
       "2017   13760  14965  13870  14198.0"
      ]
     },
     "execution_count": 20,
     "metadata": {},
     "output_type": "execute_result"
    }
   ],
   "source": [
    "# Création d'une Dataframe avec les estimations des prix en fonction de l'année et du modèle\n",
    "d = {\"Intens\" : intensPrice, 'Life': lifePrice, 'Zen': zenPrice}\n",
    "dfEstimatedPrice = pd.DataFrame(d, index = year)\n",
    "\n",
    "dfEstimatedPrice[\"Inconnu\"] = round(dfEstimatedPrice.mean(axis = 1),0)\n",
    "dfEstimatedPrice"
   ]
  },
  {
   "cell_type": "code",
   "execution_count": 21,
   "metadata": {},
   "outputs": [],
   "source": [
    "df[\"EstimatedPrice\"] = np.nan\n",
    "dftest = df[[\"year\", \"version\"]].values"
   ]
  },
  {
   "cell_type": "code",
   "execution_count": 22,
   "metadata": {},
   "outputs": [
    {
     "name": "stderr",
     "output_type": "stream",
     "text": [
      "/Users/robinchampseix/Desktop/Telecom/MS_Big_Data/Kit_Data_Science/Py3_kitDataScience/lib/python3.6/site-packages/ipykernel_launcher.py:3: SettingWithCopyWarning: \n",
      "A value is trying to be set on a copy of a slice from a DataFrame\n",
      "\n",
      "See the caveats in the documentation: http://pandas.pydata.org/pandas-docs/stable/indexing.html#indexing-view-versus-copy\n",
      "  This is separate from the ipykernel package so we can avoid doing imports until\n"
     ]
    },
    {
     "name": "stdout",
     "output_type": "stream",
     "text": [
      "CPU times: user 4.92 s, sys: 28.8 ms, total: 4.95 s\n",
      "Wall time: 4.95 s\n"
     ]
    }
   ],
   "source": [
    "%%time\n",
    "for i in range(len(dftest)):\n",
    "    if dftest[i][0] in year :\n",
    "        df[\"EstimatedPrice\"][i] = dfEstimatedPrice.loc[dftest[i][0], dftest[i][1]]    "
   ]
  },
  {
   "cell_type": "code",
   "execution_count": 23,
   "metadata": {},
   "outputs": [
    {
     "data": {
      "text/html": [
       "<div>\n",
       "<style>\n",
       "    .dataframe thead tr:only-child th {\n",
       "        text-align: right;\n",
       "    }\n",
       "\n",
       "    .dataframe thead th {\n",
       "        text-align: left;\n",
       "    }\n",
       "\n",
       "    .dataframe tbody tr th {\n",
       "        vertical-align: top;\n",
       "    }\n",
       "</style>\n",
       "<table border=\"1\" class=\"dataframe\">\n",
       "  <thead>\n",
       "    <tr style=\"text-align: right;\">\n",
       "      <th></th>\n",
       "      <th>version</th>\n",
       "      <th>year</th>\n",
       "      <th>kilometrage</th>\n",
       "      <th>price</th>\n",
       "      <th>telephon_number</th>\n",
       "      <th>seller</th>\n",
       "      <th>EstimatedPrice</th>\n",
       "    </tr>\n",
       "  </thead>\n",
       "  <tbody>\n",
       "    <tr>\n",
       "      <th>0</th>\n",
       "      <td>Inconnu</td>\n",
       "      <td>2017</td>\n",
       "      <td>20000</td>\n",
       "      <td>15900</td>\n",
       "      <td>Numéro Inconnu</td>\n",
       "      <td>Particulier</td>\n",
       "      <td>14198.0</td>\n",
       "    </tr>\n",
       "    <tr>\n",
       "      <th>1</th>\n",
       "      <td>Intens</td>\n",
       "      <td>2015</td>\n",
       "      <td>15254</td>\n",
       "      <td>10990</td>\n",
       "      <td>0164597186</td>\n",
       "      <td>Professionel</td>\n",
       "      <td>12739.0</td>\n",
       "    </tr>\n",
       "    <tr>\n",
       "      <th>2</th>\n",
       "      <td>Life</td>\n",
       "      <td>2014</td>\n",
       "      <td>28537</td>\n",
       "      <td>7900</td>\n",
       "      <td>0134301285</td>\n",
       "      <td>Professionel</td>\n",
       "      <td>9918.0</td>\n",
       "    </tr>\n",
       "    <tr>\n",
       "      <th>3</th>\n",
       "      <td>Life</td>\n",
       "      <td>2013</td>\n",
       "      <td>8751</td>\n",
       "      <td>8990</td>\n",
       "      <td>0164597186</td>\n",
       "      <td>Professionel</td>\n",
       "      <td>10492.0</td>\n",
       "    </tr>\n",
       "    <tr>\n",
       "      <th>4</th>\n",
       "      <td>Life</td>\n",
       "      <td>2014</td>\n",
       "      <td>29000</td>\n",
       "      <td>9700</td>\n",
       "      <td>Numéro Inconnu</td>\n",
       "      <td>Particulier</td>\n",
       "      <td>9918.0</td>\n",
       "    </tr>\n",
       "  </tbody>\n",
       "</table>\n",
       "</div>"
      ],
      "text/plain": [
       "   version  year  kilometrage  price telephon_number        seller  \\\n",
       "0  Inconnu  2017        20000  15900  Numéro Inconnu   Particulier   \n",
       "1   Intens  2015        15254  10990      0164597186  Professionel   \n",
       "2     Life  2014        28537   7900      0134301285  Professionel   \n",
       "3     Life  2013         8751   8990      0164597186  Professionel   \n",
       "4     Life  2014        29000   9700  Numéro Inconnu   Particulier   \n",
       "\n",
       "   EstimatedPrice  \n",
       "0         14198.0  \n",
       "1         12739.0  \n",
       "2          9918.0  \n",
       "3         10492.0  \n",
       "4          9918.0  "
      ]
     },
     "execution_count": 23,
     "metadata": {},
     "output_type": "execute_result"
    }
   ],
   "source": [
    "df.head()"
   ]
  },
  {
   "cell_type": "code",
   "execution_count": 106,
   "metadata": {},
   "outputs": [],
   "source": [
    "df.to_csv(path_or_buf = \"/Users/robinchampseix/Desktop/Telecom/MS_Big_Data/Kit_Data_Science/renaultZoe.csv\", sep='\\t')"
   ]
  }
 ],
 "metadata": {
  "kernelspec": {
   "display_name": "Python 3",
   "language": "python",
   "name": "python3"
  },
  "language_info": {
   "codemirror_mode": {
    "name": "ipython",
    "version": 3
   },
   "file_extension": ".py",
   "mimetype": "text/x-python",
   "name": "python",
   "nbconvert_exporter": "python",
   "pygments_lexer": "ipython3",
   "version": "3.6.2"
  }
 },
 "nbformat": 4,
 "nbformat_minor": 2
}

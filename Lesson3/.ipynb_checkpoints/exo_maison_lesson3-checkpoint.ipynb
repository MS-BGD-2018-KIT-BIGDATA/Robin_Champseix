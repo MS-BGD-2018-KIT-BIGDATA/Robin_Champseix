{
 "cells": [
  {
   "cell_type": "code",
   "execution_count": null,
   "metadata": {},
   "outputs": [],
   "source": [
    "from urllib.request import urlopen\n",
    "from multiprocessing import Pool\n",
    "from bs4 import BeautifulSoup\n",
    "import urllib.request, json\n",
    "import pandas as pd\n",
    "import lxml.html\n",
    "import requests\n",
    "import getpass\n",
    "import math\n",
    "import re\n",
    "\n",
    "username = input('Github username: ')\n",
    "password = getpass.getpass('Github password: ')\n",
    "\n",
    "URL = \"https://gist.github.com/paulmillr/2657075\"\n",
    "\n",
    "r = requests.get(URL)\n",
    "soup = BeautifulSoup(r.text, 'html.parser')\n",
    "users = soup.tbody.find_all('a', href=re.compile('^https://github.com/'))\n",
    "users_cleaned = [u.text for u in users]\n",
    "\n",
    "Dict_Github = {'Rank': list(range(1, 257)),\n",
    "               'Username': users_cleaned}\n",
    "\n",
    "df = pd.DataFrame(Dict_Github)\n",
    "df = df.set_index('Rank')\n",
    "\n",
    "def get_github_level(username):\n",
    "    p, stars_number, projects_number = 1, 0, 0\n",
    "    data = requests.get(\"https://api.github.com/users/\" + username + \"/repos?page=1&per_page=100\", auth=(username, password)).json()\n",
    "    while(len(data) != 0):\n",
    "        projects_number += len(data)\n",
    "        for i in range(len(data)):\n",
    "            stars_number += data[i][\"stargazers_count\"]\n",
    "        p += 1\n",
    "        data = requests.get(\"https://api.github.com/users/\" + username + \"/repos?page=\" + str(p) + \"&per_page=100\", auth=(username, password)).json()\n",
    "    if projects_number == 0:\n",
    "        return 0\n",
    "    return round(stars_number/projects_number, 2)\n",
    "\n",
    "p = Pool(3)\n",
    "fraicheur_github = p.map(get_github_level, users_cleaned)\n",
    "df[\"Star\"] = fraicheur_github\n",
    "df_sorted = df.sort_values(by=\"Star\", ascending=False).copy()\n",
    "df_sorted.head()"
   ]
  }
 ],
 "metadata": {
  "kernelspec": {
   "display_name": "Py_3_KitDataScience",
   "language": "python",
   "name": "py_3_kitdatascience"
  },
  "language_info": {
   "codemirror_mode": {
    "name": "ipython",
    "version": 3
   },
   "file_extension": ".py",
   "mimetype": "text/x-python",
   "name": "python",
   "nbconvert_exporter": "python",
   "pygments_lexer": "ipython3",
   "version": "3.6.2"
  }
 },
 "nbformat": 4,
 "nbformat_minor": 2
}

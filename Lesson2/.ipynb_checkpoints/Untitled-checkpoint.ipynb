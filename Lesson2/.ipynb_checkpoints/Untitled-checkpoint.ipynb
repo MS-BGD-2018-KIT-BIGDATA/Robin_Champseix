{
 "cells": [
  {
   "cell_type": "code",
   "execution_count": null,
   "metadata": {},
   "outputs": [],
   "source": [
    "from urllib.request import urlopen\n",
    "from bs4 import BeautifulSoup\n",
    "import pandas as pd\n",
    "import lxml.html\n",
    "import requests\n",
    "import sys\n",
    "\n",
    "def scrapper_dicscount(URL):\n",
    "    page = urlopen(URL).read()\n",
    "    html = lxml.html.fromstring(page)\n",
    "    scraping = html.xpath(\"//div[@class='ecoBlk']//span\")\n",
    "    data_list = [sc.text_content() for sc in scraping]\n",
    "    data_list_cleaned = [dlc.replace('€','.').strip() for dlc in data_list]\n",
    "    return data_list_cleaned\n",
    "\n",
    "\n",
    "URL_DELL = \"https://www.cdiscount.com/search/10/ordinateur+portable.html#_his_\"\n",
    "URL_ACER = \"https://www.cdiscount.com/search/10/ordinateur+portable.html?TechnicalForm.SiteMapNodeId=0&TechnicalForm.DepartmentId=10&TechnicalForm.ProductId=&hdnPageType=Search&TechnicalForm.ContentTypeId=16&TechnicalForm.SellerId=&TechnicalForm.PageType=SEARCH_AJAX&TechnicalForm.LazyLoading.ProductSheets=False&NavigationForm.CurrentSelectedNavigationPath=0&FacetForm.SelectedFacets.Index=0&FacetForm.SelectedFacets.Index=1&FacetForm.SelectedFacets.Index=2&FacetForm.SelectedFacets.Index=3&FacetForm.SelectedFacets%5B3%5D=f%2F6%2Facer&FacetForm.SelectedFacets.Index=4&FacetForm.SelectedFacets.Index=5&FacetForm.SelectedFacets.Index=6&FacetForm.SelectedFacets.Index=7&FacetForm.SelectedFacets.Index=8&FacetForm.SelectedFacets.Index=9&FacetForm.SelectedFacets.Index=10&FacetForm.SelectedFacets.Index=11&FacetForm.SelectedFacets.Index=12&FacetForm.SelectedFacets.Index=13&FacetForm.SelectedFacets.Index=14&FacetForm.SelectedFacets.Index=15&FacetForm.SelectedFacets.Index=16&FacetForm.SelectedFacets.Index=17&FacetForm.SelectedFacets.Index=18&SortForm.SelectedNavigationPath=&ProductListTechnicalForm.Keyword=ordinateur%2Bportable&&_his_\"\n",
    "\n",
    "dell_discount= list(map(float, scrapper_dicscount(URL_DELL)))\n",
    "acer_discount= list(map(float, scrapper_dicscount(URL_ACER)))\n",
    "sum_discount_dell = sum(dell_discount)\n",
    "sum_discount_acer = sum(acer_discount)\n",
    "\n",
    "print(\"Ratio discount sum discount/number of computer Dell:\", round(sum_discount_dell/len(dell_discount), 3))\n",
    "print(\"Sum discount sum discount/number of computer Acer:\", round(sum_discount_acer/len(acer_discount), 3))"
   ]
  }
 ],
 "metadata": {
  "kernelspec": {
   "display_name": "Py_3_KitDataScience",
   "language": "python",
   "name": "py_3_kitdatascience"
  },
  "language_info": {
   "codemirror_mode": {
    "name": "ipython",
    "version": 3
   },
   "file_extension": ".py",
   "mimetype": "text/x-python",
   "name": "python",
   "nbconvert_exporter": "python",
   "pygments_lexer": "ipython3",
   "version": "3.6.2"
  }
 },
 "nbformat": 4,
 "nbformat_minor": 2
}

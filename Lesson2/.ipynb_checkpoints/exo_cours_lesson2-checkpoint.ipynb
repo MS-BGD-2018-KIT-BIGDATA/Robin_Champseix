{
 "cells": [
  {
   "cell_type": "code",
   "execution_count": 3,
   "metadata": {},
   "outputs": [],
   "source": [
    "from urllib.request import urlopen\n",
    "from bs4 import BeautifulSoup\n",
    "import pandas as pd\n",
    "import lxml.html\n",
    "import requests\n",
    "import sys"
   ]
  },
  {
   "cell_type": "code",
   "execution_count": 43,
   "metadata": {},
   "outputs": [],
   "source": [
    "dell_list = \"https://www.cdiscount.com/search/10/dell+pc+portable.html#_his_\"\n",
    "acer_list = \"https://www.cdiscount.com/search/10/acer+pc+portable.html#_his_\"\n",
    "\n",
    "soupAcer = getSoupFromURL(acer_list)\n",
    "soupDell = getSoupFromURL(dell_list)"
   ]
  },
  {
   "cell_type": "code",
   "execution_count": 44,
   "metadata": {},
   "outputs": [],
   "source": [
    "def getSoupFromURL(url, method='get', data={}):\n",
    "\n",
    "    if method == 'get':\n",
    "        res = requests.get(url)\n",
    "    elif method == 'post':\n",
    "        res = requests.post(url, data=data)\n",
    "    else:\n",
    "        return None\n",
    "\n",
    "    if res.status_code == 200:\n",
    "        soup = BeautifulSoup(res.text, 'html.parser')\n",
    "        return soup\n",
    "    else:\n",
    "        return None"
   ]
  },
  {
   "cell_type": "code",
   "execution_count": 66,
   "metadata": {},
   "outputs": [],
   "source": [
    "def getMeanReduction(soup):\n",
    "    real_Price = []\n",
    "    for i in range(len(soup.find_all(class_ = \"prdtPrice\"))) :\n",
    "        real_Price.append(int(soup.find_all(class_ = \"prdtPrice\")[i].text.split(\"€\")[0]))\n",
    "    \n",
    "    economy = []\n",
    "    for i in range(len(soup.find_all(class_ = \"ecoBlk jsEcoBlk\"))) :\n",
    "        economy.append(int(soup.find_all(class_ = \"ecoBlk jsEcoBlk\")[i].text.split(\"€\")[0]))\n",
    "    \n",
    "    return \"il y a en moyenne \" + str(sum(economy) / len(real_Price)) + \"€ de réduction sur cette marque\""
   ]
  },
  {
   "cell_type": "code",
   "execution_count": 67,
   "metadata": {},
   "outputs": [
    {
     "data": {
      "text/plain": [
       "'il y a en moyenne 101.73913043478261€ de réduction sur cette marque'"
      ]
     },
     "execution_count": 67,
     "metadata": {},
     "output_type": "execute_result"
    }
   ],
   "source": [
    "getMeanReduction(soupDell)"
   ]
  },
  {
   "cell_type": "code",
   "execution_count": 68,
   "metadata": {},
   "outputs": [
    {
     "data": {
      "text/plain": [
       "'il y a en moyenne 115.17391304347827€ de réduction sur cette marque'"
      ]
     },
     "execution_count": 68,
     "metadata": {},
     "output_type": "execute_result"
    }
   ],
   "source": [
    "getMeanReduction(soupAcer)"
   ]
  },
  {
   "cell_type": "code",
   "execution_count": null,
   "metadata": {},
   "outputs": [],
   "source": []
  }
 ],
 "metadata": {
  "kernelspec": {
   "display_name": "Py_3_KitDataScience",
   "language": "python",
   "name": "py_3_kitdatascience"
  },
  "language_info": {
   "codemirror_mode": {
    "name": "ipython",
    "version": 3
   },
   "file_extension": ".py",
   "mimetype": "text/x-python",
   "name": "python",
   "nbconvert_exporter": "python",
   "pygments_lexer": "ipython3",
   "version": "3.6.2"
  }
 },
 "nbformat": 4,
 "nbformat_minor": 2
}
